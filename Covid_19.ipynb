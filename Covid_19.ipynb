{
  "nbformat": 4,
  "nbformat_minor": 0,
  "metadata": {
    "colab": {
      "name": "Covid-19.ipynb",
      "provenance": [],
      "collapsed_sections": [],
      "authorship_tag": "ABX9TyN4Cdv6y7+v8WPiqC2tvFSh",
      "include_colab_link": true
    },
    "kernelspec": {
      "name": "python3",
      "display_name": "Python 3"
    }
  },
  "cells": [
    {
      "cell_type": "markdown",
      "metadata": {
        "id": "view-in-github",
        "colab_type": "text"
      },
      "source": [
        "<a href=\"https://colab.research.google.com/github/LnAStef/Predictions-Covid19/blob/master/Covid_19.ipynb\" target=\"_parent\"><img src=\"https://colab.research.google.com/assets/colab-badge.svg\" alt=\"Open In Colab\"/></a>"
      ]
    },
    {
      "cell_type": "markdown",
      "metadata": {
        "id": "lEMzR7zHru_j",
        "colab_type": "text"
      },
      "source": [
        "#Предикција на бројот на ново-заразени од Covid-19 во Македонија"
      ]
    },
    {
      "cell_type": "code",
      "metadata": {
        "id": "pCutWgO6-X69",
        "colab_type": "code",
        "outputId": "4d91dd95-0492-4e97-b511-507f244414a2",
        "colab": {
          "base_uri": "https://localhost:8080/",
          "height": 121
        }
      },
      "source": [
        "from google.colab import drive\n",
        "\n",
        "drive.mount('/content/drive')"
      ],
      "execution_count": 3,
      "outputs": [
        {
          "output_type": "stream",
          "text": [
            "Go to this URL in a browser: https://accounts.google.com/o/oauth2/auth?client_id=947318989803-6bn6qk8qdgf4n4g3pfee6491hc0brc4i.apps.googleusercontent.com&redirect_uri=urn%3aietf%3awg%3aoauth%3a2.0%3aoob&response_type=code&scope=email%20https%3a%2f%2fwww.googleapis.com%2fauth%2fdocs.test%20https%3a%2f%2fwww.googleapis.com%2fauth%2fdrive%20https%3a%2f%2fwww.googleapis.com%2fauth%2fdrive.photos.readonly%20https%3a%2f%2fwww.googleapis.com%2fauth%2fpeopleapi.readonly\n",
            "\n",
            "Enter your authorization code:\n",
            "··········\n",
            "Mounted at /content/drive\n"
          ],
          "name": "stdout"
        }
      ]
    },
    {
      "cell_type": "markdown",
      "metadata": {
        "id": "jN2Ls3pVd9Xn",
        "colab_type": "text"
      },
      "source": [
        "## 1.Извлекување на податоците од веб страната за соопштенија на Владата и креирање на .csv фајл каде ќе се запишат истите\n",
        "\n",
        "\n"
      ]
    },
    {
      "cell_type": "markdown",
      "metadata": {
        "id": "8cvFz5dUe6qD",
        "colab_type": "text"
      },
      "source": [
        "Земајки во предвид дека бројките се значително поразлични односно поголеми на почетокот на пандемијата, пред да се воведе вонредната состојба и карантинот, за овој модел ги извлеков само податоците од последниот месец со цел да добијам пореални бројки. "
      ]
    },
    {
      "cell_type": "code",
      "metadata": {
        "id": "X0uykPnvInUi",
        "colab_type": "code",
        "outputId": "09ad45bf-fb0e-4b76-95c9-d3c3ee880af4",
        "colab": {
          "base_uri": "https://localhost:8080/",
          "height": 1000
        }
      },
      "source": [
        "# Import libraries\n",
        "import requests\n",
        "from bs4 import BeautifulSoup\n",
        "import csv\n",
        "\n",
        "f = csv.writer(open('drive/My Drive/mk-covid19.csv', 'w'))\n",
        "f.writerow(['Датум', 'Ново-заразени', 'Оздравени', 'Починати', 'Вкупно заразени'])\n",
        "\n",
        "for i in range(0,13):                 \n",
        "  # Селектирање на веб страниците каде има дневни соопштенија за Ковид од последните 30 дена\n",
        "  if( i == 0):\n",
        "    master_page = requests.get('https://vlada.mk/soopstenija')\n",
        "    # print('https://vlada.mk/soopstenija')\n",
        "  else: \n",
        "    master_page = requests.get('https://vlada.mk/soopstenija?page=' + str(i))\n",
        "    # print('https://vlada.mk/soopstenija?page=' + str(i))\n",
        "  \n",
        "  \n",
        "  # Create a BeautifulSoup object\n",
        "  soup = BeautifulSoup(master_page.text, 'html.parser')\n",
        "\n",
        "  # Pull all text from the BodyText div\n",
        "  soopshtenija_list = soup.find_all(class_='views-special')\n",
        "\n",
        "  for soopshtenie in soopshtenija_list:\n",
        "    s = str(soopshtenie.contents[5])  # наслов на соопштението\n",
        "    if(s.find(\"Денеска се потврдени\")!=-1 or s.find(\"Денеска се оздравени \")!=-1 or s.find(\"Оздравени се \")!=-1 or s.find(\"оздравени се\")!=-1 or s.find(\"Денеска потврдени\")!=-1 or s.find(\"Потврдени\")!=-1):\n",
        "      \n",
        "      datum = \"\"\n",
        "      d = str(soopshtenie.contents[3])  # информација за датумот\n",
        "                                      # 1-link, 3-date, 5-naslov na soop.\n",
        "      print(\"\\n\")\n",
        "      # print(s)\n",
        "      # Средување на приказот на датумот\n",
        "      for i in range(0, len(d)):\n",
        "        if d[i].isnumeric():\n",
        "          for j in range (i, len(d)):\n",
        "            if d[j]!=\",\":\n",
        "                continue\n",
        "            else: \n",
        "                break\n",
        "          datum = d[i:j]\n",
        "          break\n",
        "      print(datum)\n",
        "\n",
        "      dij_previous = dij\n",
        "      novi_previous = novi\n",
        "\n",
        "      novi = 0;\n",
        "      ozdraveni = 0;\n",
        "      pochinati = 0;\n",
        "      dij=0;\n",
        "\n",
        "      # Извлекување на потребните информации од соопштението\n",
        "      i = 0;\n",
        "      new_s = s.split(\" \")\n",
        "      for word in new_s:\n",
        "        # print(word)\n",
        "        if word.isnumeric():\n",
        "          # print(word)\n",
        "          # print(new_s[i+1])\n",
        "          if new_s[i+1] == \"нови\" or new_s[i+1] == \"нов\" or new_s[i-1] == \"нови\" or new_s[i-1] == \"нов\" :\n",
        "            print(\"Нови:\" + str(word))\n",
        "            novi = int(word)\n",
        "            \n",
        "          if new_s[i-1] == \"почина\" or new_s[i-1] == \"починаа\" or new_s[i-1] == \"починати\" or (new_s[i-1] == \"се\" and new_s[i-2] == \"починати\") or (new_s[i-1] == \"е\" and new_s[i-2] == \"починато\"):\n",
        "            print(\"Починати:\" + str(word))\n",
        "            pochinati = int(word)\n",
        "            \n",
        "          if new_s[i-2][-9:] == \"Оздравени\" or new_s[i-2] == \"оздравени\" or new_s[i-1] == \"оздравени\" or new_s[i-2] == \"оздравен\" or new_s[i+1][:9] == \"оздравени\" :\n",
        "            print(\"Оздравени:\" + str(word))\n",
        "            ozdraveni = int(word)\n",
        "            \n",
        "        if word.isnumeric():\n",
        "\n",
        "          if new_s[i+1] == \"дијагностицирани\" or new_s[i-1] == \"дијагностицирани\" or new_s[i-2] == \"случаи\" or new_s[i-2] == \"дијагностицирани\":\n",
        "            print(\"Вкупно дијагностицирани:\" + str(word))\n",
        "            dij = int(word)\n",
        "            i += 1\n",
        "            continue;\n",
        "        if word[0:len(word)-1].isnumeric():\n",
        "\n",
        "          if new_s[i-1] == \"дијагностицирани\" or new_s[i-3] == \"дијагностицирани\" or new_s[i-2] == \"дијагностицирани\":\n",
        "            print(\"Вкупно дијагностицирани:\" + str(word[0:len(word)-1]))\n",
        "            dij = int(word[0:len(word)-1])\n",
        "            i += 1\n",
        "            continue;\n",
        "        if (word[0:1]+ word[2:len(word)-1]).isnumeric():\n",
        "\n",
        "          if new_s[i-1] == \"дијагностицирани\":\n",
        "            print(\"Вкупно дијагностицирани:\" + str(word[0:1]+ word[2:len(word)-1]))\n",
        "            dij = int(word[0:1]+ word[2:len(word)-1])\n",
        "            i += 1\n",
        "            continue;\n",
        "        if (word[0:1]+ word[2:len(word)]).isnumeric():\n",
        "\n",
        "          if new_s[i-2] == \"дијагностицирани\":\n",
        "            print(\"Вкупно дијагностицирани:\" + str(word[0:1]+ word[2:len(word)]))\n",
        "            dij = int(word[0:1]+ word[2:len(word)])\n",
        "            i += 1\n",
        "            continue;\n",
        "        if (word[0:len(word)-10]).isnumeric():\n",
        "\n",
        "          if new_s[i-1] == \"дијагностицирани\":\n",
        "            print(\"Вкупно дијагностицирани:\" + str(word[0:len(word)-10]))\n",
        "            dij = int(word[0:len(word)-10])\n",
        " \n",
        "        i += 1\n",
        "\n",
        "      # Пополнување вредности што недостасуваат\n",
        "      if datum == \"07 Мај 2020\":\n",
        "        ozdraveni=22\n",
        "        print(\"Оздравени:\" + str(ozdraveni))\n",
        "\n",
        "      if dij == 0:\n",
        "        dij = dij_previous - novi_previous\n",
        "        print(\"Вкупно дијагностицирани:\" + str(dij))\n",
        "\n",
        "      f.writerow([datum, novi, ozdraveni, pochinati,dij])\n",
        "\n",
        "      if datum == \"11 Мај 2020\":\n",
        "        #dodadi 10ti\n",
        "        novi1=20\n",
        "        pochinati=0\n",
        "        ozdraveni =24\n",
        "        dij = dij - novi \n",
        "        datum = \"10 Мај 2020\"\n",
        "        # print(novi1,pochinati,ozdraveni,dij)\n",
        "        f.writerow([datum, novi, ozdraveni, pochinati,dij])\n",
        "      if datum == \"23 Април 2020\":\n",
        "        #dodadi 22ri\n",
        "        novi1=28\n",
        "        pochinati=1\n",
        "        ozdraveni =48\n",
        "        dij = dij - novi \n",
        "        datum = \"22 Април 2020\"\n",
        "        # print(novi1,pochinati,ozdraveni,dij)\n",
        "        f.writerow([datum, novi, ozdraveni, pochinati,dij])\n",
        "\n",
        "      \n",
        "\n",
        "\n"
      ],
      "execution_count": 58,
      "outputs": [
        {
          "output_type": "stream",
          "text": [
            "\n",
            "\n",
            "13 Мај 2020\n",
            "Нови:20\n",
            "Вкупно дијагностицирани:1694\n",
            "Оздравени:24\n",
            "Починати:3\n",
            "\n",
            "\n",
            "12 Мај 2020\n",
            "Нови:10\n",
            "Вкупно дијагностицирани:1674\n",
            "Оздравени:5\n",
            "Починати:1\n",
            "\n",
            "\n",
            "11 Мај 2020\n",
            "Оздравени:64\n",
            "Нови:22\n",
            "Вкупно дијагностицирани:1664\n",
            "\n",
            "\n",
            "09 Мај 2020\n",
            "Нови:36\n",
            "Вкупно дијагностицирани:1622\n",
            "Оздравени:13\n",
            "Починати:1\n",
            "\n",
            "\n",
            "08 Мај 2020\n",
            "Нови:14\n",
            "Оздравени:20\n",
            "Вкупно дијагностицирани:1586\n",
            "Починати:1\n",
            "\n",
            "\n",
            "07 Мај 2020\n",
            "Нови:33\n",
            "Вкупно дијагностицирани:1572\n",
            "Оздравени:22\n",
            "\n",
            "\n",
            "06 Мај 2020\n",
            "Нови:13\n",
            "Оздравени:44\n",
            "Починати:2\n",
            "Вкупно дијагностицирани:1539\n",
            "\n",
            "\n",
            "05 Мај 2020\n",
            "Нови:8\n",
            "Оздравени:21\n",
            "Починати:1\n",
            "Вкупно дијагностицирани:1526\n",
            "\n",
            "\n",
            "04 Мај 2020\n",
            "Нови:7\n",
            "Оздравени:47\n",
            "Починати:1\n",
            "Вкупно дијагностицирани:1518\n",
            "\n",
            "\n",
            "03 Мај 2020\n",
            "Нови:5\n",
            "Оздравени:95\n",
            "Починати:2\n",
            "Вкупно дијагностицирани:1511\n",
            "\n",
            "\n",
            "02 Мај 2020\n",
            "Оздравени:45\n",
            "Нови:15\n",
            "Вкупно дијагностицирани:1506\n",
            "Починати:1\n",
            "\n",
            "\n",
            "01 Мај 2020\n",
            "Оздравени:69\n",
            "Нови:29\n",
            "Вкупно дијагностицирани:1494\n",
            "Починати:4\n",
            "\n",
            "\n",
            "30 Април 2020\n",
            "Оздравени:111\n",
            "Нови:23\n",
            "Вкупно дијагностицирани:1465\n",
            "Починати:4\n",
            "\n",
            "\n",
            "29 Април 2020\n",
            "Оздравени:38\n",
            "Нови:21\n",
            "Вкупно дијагностицирани:1442\n",
            "Починати:2\n",
            "\n",
            "\n",
            "28 Април 2020\n",
            "Оздравени:36\n",
            "Нови:22\n",
            "Вкупно дијагностицирани:1421\n",
            "Починати:6\n",
            "\n",
            "\n",
            "27 Април 2020\n",
            "Оздравени:53\n",
            "Нови:13\n",
            "Вкупно дијагностицирани:1399\n",
            "Починати:4\n",
            "\n",
            "\n",
            "26 Април 2020\n",
            "Оздравени:126\n",
            "Нови:19\n",
            "Вкупно дијагностицирани:1386\n",
            "Починати:2\n",
            "\n",
            "\n",
            "25 Април 2020\n",
            "Нови:41\n",
            "Вкупно дијагностицирани:1367\n",
            "Оздравени:37\n",
            "Починати:2\n",
            "\n",
            "\n",
            "24 Април 2020\n",
            "Оздравени:36\n",
            "Нови:26\n",
            "Вкупно дијагностицирани:1326\n",
            "Починати:1\n",
            "\n",
            "\n",
            "23 Април 2020\n",
            "Оздравени:29\n",
            "Нови:41\n",
            "Вкупно дијагностицирани:1300\n",
            "\n",
            "\n",
            "21 Април 2020\n",
            "Нови:7\n",
            "Вкупно дијагностицирани:1231\n",
            "Оздравени:24\n",
            "Починати:1\n",
            "\n",
            "\n",
            "20 Април 2020\n",
            "Нови:18\n",
            "Вкупно дијагностицирани:1225\n",
            "Оздравени:21\n",
            "Починати:3\n",
            "\n",
            "\n",
            "19 Април 2020\n",
            "Нови:37\n",
            "Вкупно дијагностицирани:1207\n",
            "Починати:2\n",
            "Оздравени:15\n",
            "\n",
            "\n",
            "18 Април 2020\n",
            "Нови:53\n",
            "Вкупно дијагностицирани:1170\n",
            "Оздравени:25\n",
            "\n",
            "\n",
            "17 Април 2020\n",
            "Нови:36\n",
            "Вкупно дијагностицирани:1117\n",
            "Починати:3\n",
            "Оздравени:18\n",
            "\n",
            "\n",
            "16 Април 2020\n",
            "Нови:107\n",
            "Вкупно дијагностицирани:1081\n",
            "Починати:1\n",
            "Оздравени:23\n",
            "\n",
            "\n",
            "15 Април 2020\n",
            "Нови:66\n",
            "Вкупно дијагностицирани:974\n",
            "Починати:1\n",
            "Оздравени:12\n",
            "\n",
            "\n",
            "14 Април 2020\n",
            "Нови:54\n",
            "Вкупно дијагностицирани:908\n",
            "Починати:6\n",
            "Оздравени:42\n"
          ],
          "name": "stdout"
        }
      ]
    },
    {
      "cell_type": "markdown",
      "metadata": {
        "id": "pJkuOW3feXRm",
        "colab_type": "text"
      },
      "source": [
        "## 2. Вчитување на .csv фајалот со податоците\n",
        "\n",
        "\n"
      ]
    },
    {
      "cell_type": "code",
      "metadata": {
        "id": "D2pC0ErYbZJp",
        "colab_type": "code",
        "outputId": "850e50a1-b0d3-49a6-c037-dcbd65f93945",
        "colab": {
          "base_uri": "https://localhost:8080/",
          "height": 538
        }
      },
      "source": [
        "import pandas as pd\n",
        "import matplotlib.pyplot as plt\n",
        "\n",
        "data = pd.read_csv(\"drive/My Drive/mk-covid19.csv\")\n",
        "print(data)\n"
      ],
      "execution_count": 1,
      "outputs": [
        {
          "output_type": "stream",
          "text": [
            "            Датум  Ново-заразени  Оздравени  Починати  Вкупно заразени\n",
            "0     13 Мај 2020             20         24         3             1694\n",
            "1     12 Мај 2020             10          5         1             1674\n",
            "2     11 Мај 2020             22         64         0             1664\n",
            "3     10 Мај 2020             22         24         0             1642\n",
            "4     09 Мај 2020             36         13         1             1622\n",
            "5     08 Мај 2020             14         20         1             1586\n",
            "6     07 Мај 2020             33         22         0             1572\n",
            "7     06 Мај 2020             13         44         2             1539\n",
            "8     05 Мај 2020              8         21         1             1526\n",
            "9     04 Мај 2020              7         47         1             1518\n",
            "10    03 Мај 2020              5         95         2             1511\n",
            "11    02 Мај 2020             15         45         1             1506\n",
            "12    01 Мај 2020             29         69         4             1494\n",
            "13  30 Април 2020             23        111         4             1465\n",
            "14  29 Април 2020             21         38         2             1442\n",
            "15  28 Април 2020             22         36         6             1421\n",
            "16  27 Април 2020             13         53         4             1399\n",
            "17  26 Април 2020             19        126         2             1386\n",
            "18  25 Април 2020             41         37         2             1367\n",
            "19  24 Април 2020             26         36         1             1326\n",
            "20  23 Април 2020             41         29         0             1300\n",
            "21  22 Април 2020             41         48         1             1259\n",
            "22  21 Април 2020              7         24         1             1231\n",
            "23  20 Април 2020             18         21         3             1225\n",
            "24  19 Април 2020             37         15         2             1207\n",
            "25  18 Април 2020             53         25         0             1170\n",
            "26  17 Април 2020             36         18         3             1117\n",
            "27  16 Април 2020            107         23         1             1081\n",
            "28  15 Април 2020             66         12         1              974\n",
            "29  14 Април 2020             54         42         6              908\n"
          ],
          "name": "stdout"
        }
      ]
    },
    {
      "cell_type": "markdown",
      "metadata": {
        "id": "cHVEJfphfzcW",
        "colab_type": "text"
      },
      "source": [
        "## 3.1 Визуелизација на податоците по денови, за ново-заразени, починати и оздравени\n",
        "\n",
        "\n"
      ]
    },
    {
      "cell_type": "code",
      "metadata": {
        "id": "0tjl55tHaxch",
        "colab_type": "code",
        "outputId": "0e3acea1-ecb7-420c-b2ad-aa72074f5a8b",
        "colab": {
          "base_uri": "https://localhost:8080/",
          "height": 277
        }
      },
      "source": [
        "import numpy as np\n",
        "import matplotlib.pyplot as plt\n",
        "\n",
        "numbers = np.arange(0,data.shape[0],1)\n",
        "\n",
        "X = ((numbers, data[['Ново-заразени']]), (numbers, data[['Оздравени']]), (numbers, data[['Починати']]))\n",
        "colors = (\"red\", \"green\", \"blue\")\n",
        "groups = (\"нови\", \"оздравени\", \"починати\")\n",
        "\n",
        "# Create plot\n",
        "fig = plt.figure()\n",
        "ax = fig.add_subplot(1, 1, 1)\n",
        "\n",
        "for X, color, group in zip(X, colors, groups):\n",
        "  x, y = X\n",
        "  ax.scatter(x, y, alpha=0.8, c=color, edgecolors='none', s=30, label=group)\n",
        "\n",
        "plt.title('Matplot scatter plot')\n",
        "plt.legend(loc=2)\n",
        "plt.show()"
      ],
      "execution_count": 75,
      "outputs": [
        {
          "output_type": "display_data",
          "data": {
            "image/png": "[encoded data removed]",
            "text/plain": [
              "<Figure size 432x288 with 1 Axes>"
            ]
          },
          "metadata": {
            "tags": [],
            "needs_background": "light"
          }
        }
      ]
    },
    {
      "cell_type": "markdown",
      "metadata": {
        "id": "lRLmsb7vgave",
        "colab_type": "text"
      },
      "source": [
        "## 3.2 Матрица на корелација"
      ]
    },
    {
      "cell_type": "markdown",
      "metadata": {
        "id": "EXbTq-OMiVtz",
        "colab_type": "text"
      },
      "source": [
        "Може да се забележи поголема корелација од околу 0.75 помеѓу атрибутите Датум и Вкупно заразени односно како што поминуваат деновите се зголемува вкупниот број на луѓе кои биле или се заразени од вирусот што е нормално. \n",
        "Сепак може да се заклучи и од природата на атрибутите имаме меѓусебно независни атрибути. "
      ]
    },
    {
      "cell_type": "code",
      "metadata": {
        "id": "gXrhX5UR71mJ",
        "colab_type": "code",
        "outputId": "49238ee4-e262-41c7-d489-1f67bdac666d",
        "colab": {
          "base_uri": "https://localhost:8080/",
          "height": 266
        }
      },
      "source": [
        "from scipy import stats #Library for statistical analysis\n",
        "import sys \n",
        "\n",
        "data1 = np.loadtxt(open(\"drive/My Drive/mk-covid19.csv\", \"rb\"), delimiter=\",\", skiprows=1,  dtype = str) #We get the remaining rows as the data\n",
        "\n",
        "data1[:,0] = np.arange(30,0,-1)\n",
        "X = data1[:,:].astype(np.int32) \n",
        "\n",
        "y = data1[:,1].astype(np.int32) \n",
        "\n",
        "X = np.delete(X, 1, axis=1)\n",
        "\n",
        "N = X.shape[0]\n",
        "number_of_features = X.shape[1]\n",
        "\n",
        "correlation_matrix = np.ones((number_of_features +1 ,number_of_features +1))\n",
        "for i in range(number_of_features): \n",
        "    measure = X[:,i]\n",
        "    for j in range(number_of_features):\n",
        "        measure2 = X[:,j]\n",
        "        corr, _ = stats.pearsonr(measure, measure2)\n",
        "        correlation_matrix[i][j] = corr\n",
        "\n",
        "for i in range(number_of_features): \n",
        "    measure = X[:,i]\n",
        "    j = number_of_features\n",
        "    measure2 = y\n",
        "    corr, _ = stats.pearsonr(measure, measure2)\n",
        "    correlation_matrix[i][j] = corr\n",
        "    correlation_matrix[j][i] = corr\n",
        "\n",
        "plt.figure()\n",
        "plt.imshow(correlation_matrix, cmap = \"inferno\", vmin=-1, vmax=1) \n",
        "plt.colorbar()\n",
        "plt.show()"
      ],
      "execution_count": 32,
      "outputs": [
        {
          "output_type": "display_data",
          "data": {
            "image/png": "[encoded data removed]",
            "text/plain": [
              "<Figure size 432x288 with 2 Axes>"
            ]
          },
          "metadata": {
            "tags": []
          }
        }
      ]
    },
    {
      "cell_type": "markdown",
      "metadata": {
        "id": "-aTvc6L_jjlb",
        "colab_type": "text"
      },
      "source": [
        "Од следната визуелизација може да се заклучи дека како што минуваат деновите се намалуваат границите во кои се движат вредностите на ново-заразени, така што моментално се стигнати во границата околу 10-30 на ден."
      ]
    },
    {
      "cell_type": "code",
      "metadata": {
        "id": "g3jTTG7jjdH9",
        "colab_type": "code",
        "colab": {
          "base_uri": "https://localhost:8080/",
          "height": 276
        },
        "outputId": "b3793dbf-1c9b-47a9-a33f-d955d6274a87"
      },
      "source": [
        "ax1 = data.plot.scatter(x='Датум',\n",
        "                      y='Ново-заразени',\n",
        "                      c='DarkBlue')"
      ],
      "execution_count": 34,
      "outputs": [
        {
          "output_type": "display_data",
          "data": {
            "image/png": "[encoded data removed]",
            "text/plain": [
              "<Figure size 432x288 with 1 Axes>"
            ]
          },
          "metadata": {
            "tags": []
          }
        }
      ]
    },
    {
      "cell_type": "markdown",
      "metadata": {
        "id": "wLYxmIBRkEBt",
        "colab_type": "text"
      },
      "source": [
        "## 4. Модел на Линеарна регресија\n",
        "\n",
        "\n"
      ]
    },
    {
      "cell_type": "markdown",
      "metadata": {
        "id": "2aOAwQmVkMMf",
        "colab_type": "text"
      },
      "source": [
        "Со овој модел тешко се постигнува R2 score да постигне висока вредност како што се бара, односно не се опишува баш успешно варијансата на податоците со овој линеарен модел. Предвидувањето е 5 нови случаеви, наспроти вистинската бројка 29."
      ]
    },
    {
      "cell_type": "code",
      "metadata": {
        "id": "YW1WzZiAr_IQ",
        "colab_type": "code",
        "outputId": "1aa6520b-fae1-4534-e149-aad3bf063f4f",
        "colab": {
          "base_uri": "https://localhost:8080/",
          "height": 454
        }
      },
      "source": [
        "import numpy as np\n",
        "from sklearn import linear_model\n",
        "from sklearn.model_selection import train_test_split\n",
        "\n",
        "\n",
        "col = data.get(\"Датум\")\n",
        "d = np.arange(data.shape[0],0,-1) \n",
        "  \n",
        "ser = pd.Series(d) \n",
        "data = data.replace(to_replace = list(col), value=list(d))\n",
        "\n",
        "train , test = train_test_split(data, test_size = 0.3)\n",
        "\n",
        "\n",
        "X_train = train[['Датум']]\n",
        "y_train = train[['Ново-заразени']]\n",
        "X_test = test[['Датум']]\n",
        "y_test = test[['Ново-заразени']]\n",
        "\n",
        "\n",
        "# Linear Regression\n",
        "linear_regr = linear_model.LinearRegression()\n",
        "# Train the model using the training sets\n",
        "linear_regr.fit(X_train, y_train)\n",
        "print(\"R2 score:\")\n",
        "print(linear_regr.score(X_train,y_train))\n",
        "\n",
        "from sklearn.metrics import max_error\n",
        "import math\n",
        "\n",
        "y_pred = linear_regr.predict(X_test)\n",
        "error = max_error(y_test, y_pred)\n",
        "\n",
        "\n",
        "print(y_test)\n",
        "print(y_pred)\n",
        "print(\"Maximum residual error:\")\n",
        "print(error)\n",
        "\n",
        "print(\"\\nПредвидени нови случаеви за ден 14.05.2020: \")\n",
        "print(int(linear_regr.predict(np.array([data.shape[0] + 1]).reshape(1,-1))))"
      ],
      "execution_count": 84,
      "outputs": [
        {
          "output_type": "stream",
          "text": [
            "R2 score:\n",
            "0.48935194461200654\n",
            "    Ново-заразени\n",
            "20             41\n",
            "22              7\n",
            "15             22\n",
            "11             15\n",
            "26             36\n",
            "23             18\n",
            "29             54\n",
            "19             26\n",
            "10              5\n",
            "[[44.10000596]\n",
            " [47.73875752]\n",
            " [35.00312705]\n",
            " [27.72562392]\n",
            " [55.01626065]\n",
            " [49.5581333 ]\n",
            " [60.47438799]\n",
            " [42.28063017]\n",
            " [25.90624814]]\n",
            "Maximum residual error:\n",
            "40.73875751980464\n",
            "\n",
            "Предвидени нови случаеви за ден 14.05.2020: \n",
            "5\n"
          ],
          "name": "stdout"
        }
      ]
    },
    {
      "cell_type": "markdown",
      "metadata": {
        "id": "czIZRSVqnxMY",
        "colab_type": "text"
      },
      "source": [
        "## 5. Модел на KNN регресија\n",
        "\n",
        "\n",
        "\n"
      ]
    },
    {
      "cell_type": "code",
      "metadata": {
        "id": "uKZoggdLdy4o",
        "colab_type": "code",
        "colab": {
          "base_uri": "https://localhost:8080/",
          "height": 524
        },
        "outputId": "aefc4d88-2616-44bc-fa60-3aaeeda382bc"
      },
      "source": [
        "#import required packages\n",
        "from sklearn import neighbors\n",
        "from sklearn.metrics import mean_squared_error \n",
        "from math import sqrt\n",
        "import matplotlib.pyplot as plt\n",
        "%matplotlib inline\n",
        "import numpy as np\n",
        "from sklearn.model_selection import train_test_split\n",
        "\n",
        "col = data.get(\"Датум\")\n",
        "d = np.arange(data.shape[0],0,-1) \n",
        "  \n",
        "ser = pd.Series(d) \n",
        "data = data.replace(to_replace = list(col), value=list(d))\n",
        "\n",
        "train , test = train_test_split(data, test_size = 0.3)\n",
        "\n",
        "X_train = train[['Датум']]\n",
        "y_train = train[['Ново-заразени']]\n",
        "X_test = test[['Датум']]\n",
        "y_test = test[['Ново-заразени']]\n",
        "\n",
        "\n",
        "from sklearn.preprocessing import MinMaxScaler\n",
        "scaler = MinMaxScaler(feature_range=(0, 1))\n",
        "\n",
        "\n",
        "x_train_scaled = scaler.fit_transform(X_train)\n",
        "X_train = pd.DataFrame(x_train_scaled)\n",
        "\n",
        "x_test_scaled = scaler.fit_transform(X_test)\n",
        "X_test = pd.DataFrame(x_test_scaled)\n",
        "\n",
        "\n",
        "\n",
        "rmse_val = [] #to store rmse values for different k\n",
        "r2_val = []\n",
        "p = []\n",
        "yts = []\n",
        "for K in range(21):\n",
        "    K = K+1\n",
        "    model = neighbors.KNeighborsRegressor(n_neighbors = K)\n",
        "\n",
        "    model.fit(X_train, y_train)  #fit the model\n",
        "    pred1=model.predict(X_test) #make prediction on test set\n",
        "\n",
        "    p.append(pred1)   # values necessary for plotting\n",
        "    yts.append(y_test)\n",
        "\n",
        "    error = sqrt(mean_squared_error(y_test,pred1)) #calculate rmse\n",
        "    rmse_val.append(error) #store rmse values\n",
        "    r2_val.append(model.score(X_train,y_train)) #calculate and store R2 score value\n",
        "\n",
        "curve = pd.DataFrame(rmse_val) #elbow curve\n",
        "curve.plot()\n",
        "\n",
        "curve1 = pd.DataFrame(r2_val) #elbow curve \n",
        "curve1.plot()\n"
      ],
      "execution_count": 85,
      "outputs": [
        {
          "output_type": "execute_result",
          "data": {
            "text/plain": [
              "<matplotlib.axes._subplots.AxesSubplot at 0x7fd0ec15c470>"
            ]
          },
          "metadata": {
            "tags": []
          },
          "execution_count": 85
        },
        {
          "output_type": "display_data",
          "data": {
            "image/png": "[encoded data removed]",
            "text/plain": [
              "<Figure size 432x288 with 1 Axes>"
            ]
          },
          "metadata": {
            "tags": [],
            "needs_background": "light"
          }
        },
        {
          "output_type": "display_data",
          "data": {
            "image/png": "[encoded data removed]",
            "text/plain": [
              "<Figure size 432x288 with 1 Axes>"
            ]
          },
          "metadata": {
            "tags": [],
            "needs_background": "light"
          }
        }
      ]
    },
    {
      "cell_type": "code",
      "metadata": {
        "id": "K344g3jpfKvJ",
        "colab_type": "code",
        "colab": {
          "base_uri": "https://localhost:8080/",
          "height": 34
        },
        "outputId": "b50d7209-141d-4c3c-f996-38616502f5ad"
      },
      "source": [
        "from sklearn.model_selection import GridSearchCV\n",
        "params = {'n_neighbors':[1,2,3,4,5,6,7,8,9]}\n",
        "\n",
        "knn = neighbors.KNeighborsRegressor()\n",
        "\n",
        "model = GridSearchCV(knn, params, cv=5)\n",
        "model.fit(X_train,y_train)\n",
        "model.best_params_"
      ],
      "execution_count": 86,
      "outputs": [
        {
          "output_type": "execute_result",
          "data": {
            "text/plain": [
              "{'n_neighbors': 4}"
            ]
          },
          "metadata": {
            "tags": []
          },
          "execution_count": 86
        }
      ]
    },
    {
      "cell_type": "markdown",
      "metadata": {
        "id": "m3gzEFfhn9PY",
        "colab_type": "text"
      },
      "source": [
        "Според добиените графици и резултатот од горната функција за предвидување на оптималниот број за k-соседи, заклучокот е дека најсоодветен модел за овие податоци би бил за k=4."
      ]
    },
    {
      "cell_type": "markdown",
      "metadata": {
        "id": "2Bq7WsEBoeQE",
        "colab_type": "text"
      },
      "source": [
        "Долу-наведениот график ги прикажува предвидувањата (црна боја) наспроти вистинските вредности (сина боја) за бројката на ново-заразени според податоците од тест множеството, предвидено според моделот на KNN регресија."
      ]
    },
    {
      "cell_type": "code",
      "metadata": {
        "id": "JCRoLk4o3YaT",
        "colab_type": "code",
        "colab": {
          "base_uri": "https://localhost:8080/",
          "height": 262
        },
        "outputId": "3cdaee44-9130-407e-bf0b-0484e7432d13"
      },
      "source": [
        "%matplotlib inline\n",
        "import matplotlib.pyplot as plt\n",
        "plt.style.use('seaborn-whitegrid')\n",
        "import numpy as np\n",
        "num = np.arange(0,9,1)\n",
        "\n",
        "x = np.array(num)\n",
        "y = np.array(p[1])\n",
        "\n",
        "\n",
        "plt.plot(x, y, 'o', color='black')\n",
        "\n",
        "x = np.array(num)\n",
        "y = np.array(yts[1])\n",
        "\n",
        "\n",
        "plt.plot(x, y, 'o', color='blue');"
      ],
      "execution_count": 87,
      "outputs": [
        {
          "output_type": "display_data",
          "data": {
            "image/png": "[encoded data removed]",
            "text/plain": [
              "<Figure size 432x288 with 1 Axes>"
            ]
          },
          "metadata": {
            "tags": []
          }
        }
      ]
    },
    {
      "cell_type": "code",
      "metadata": {
        "id": "F9Mk9bLtppJ8",
        "colab_type": "code",
        "colab": {
          "base_uri": "https://localhost:8080/",
          "height": 50
        },
        "outputId": "b93e1167-d918-42e0-a39a-40cabf828f65"
      },
      "source": [
        "import numpy as np\n",
        "model = neighbors.KNeighborsRegressor(n_neighbors = 4)\n",
        "\n",
        "test = np.array([data.shape[0] + 1]).reshape(1,-1)   #make a prediction for a next day\n",
        "model.fit(X_train, y_train)  #fit the model\n",
        "\n",
        "print(\"Предвидени нови случаеви за ден 14.05.2020: \")\n",
        "prediction=model.predict(test) #make prediction on test set\n",
        "print(int(prediction))\n",
        "\n"
      ],
      "execution_count": 94,
      "outputs": [
        {
          "output_type": "stream",
          "text": [
            "Предвидени нови случаеви за ден 14.05.2020: \n",
            "18\n"
          ],
          "name": "stdout"
        }
      ]
    },
    {
      "cell_type": "markdown",
      "metadata": {
        "id": "2qKI6r-yqBL3",
        "colab_type": "text"
      },
      "source": [
        "Овој модел предвидува 18 нови случаеви наспроти вистинските 29. Сепак има помала грешка при предвидувањето и опишувањето на варијансата на податоците, бидејќи не е со претходен bias да треба да моделира линеарна зависност. "
      ]
    },
    {
      "cell_type": "markdown",
      "metadata": {
        "id": "L6r6eEcrqtG1",
        "colab_type": "text"
      },
      "source": [
        "## 6. Заклучок"
      ]
    },
    {
      "cell_type": "markdown",
      "metadata": {
        "id": "wHcbEUGOqw5T",
        "colab_type": "text"
      },
      "source": [
        "Предвидувањето на бројот на ново-заразени врз основа на бројките од претходните денови се извршува со модел на регресија. Во овој случај, моделот за KNN регресија би бил посоодветен за овој проблем отколку моделот на обична линеарна регресија. Како и да е во секој случај, досега имаме податоци за само 2 месеци севкупно што сепак се малку за градење на високо-прецизен модел."
      ]
    }
  ]
}